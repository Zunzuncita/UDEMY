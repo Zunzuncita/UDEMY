{
 "cells": [
  {
   "cell_type": "markdown",
   "metadata": {
    "colab_type": "text",
    "id": "view-in-github"
   },
   "source": [
    "<a href=\"https://colab.research.google.com/github/Zunzuncita/UDEMY/blob/master/LukaAnicin_Amazing_AI_Music_Editing_With_Deep_Learning/Empty_Using_AI_to_split_songs_to_multiple_sources.ipynb\" target=\"_parent\"><img src=\"https://colab.research.google.com/assets/colab-badge.svg\" alt=\"Open In Colab\"/></a>"
   ]
  },
  {
   "cell_type": "markdown",
   "metadata": {
    "id": "3_bwEucKRMCe"
   },
   "source": [
    "<figure class=\"image\">\n",
    "  <img src=\"https://sigsep.github.io/assets/img/musheader.41c6bf29.png\" alt=\"Dataset illustration\">\n",
    "  <figcaption>Source: MUSDB18 dataset home page (Link in course resources)</figcaption>\n",
    "</figure>\n",
    "\n",
    "\n",
    "\n",
    "\n",
    "## Installing dependencies for the project"
   ]
  },
  {
   "cell_type": "markdown",
   "metadata": {
    "id": "9ZxRvEU-d4Rc"
   },
   "source": [
    "## Import dependencies"
   ]
  },
  {
   "cell_type": "code",
   "execution_count": 1,
   "metadata": {},
   "outputs": [
    {
     "name": "stderr",
     "output_type": "stream",
     "text": [
      "'apk' is not recognized as an internal or external command,\n",
      "operable program or batch file.\n"
     ]
    }
   ],
   "source": [
    "!apk install ffmpeg"
   ]
  },
  {
   "cell_type": "markdown",
   "metadata": {
    "id": "G2TVmrCteLj5"
   },
   "source": [
    "## Dewnload video from youtube \n",
    "\n",
    "**Disclaimer: I don’t own the rights to songs mentioned in this course, the copyrights are of the official music creators and labels.**"
   ]
  },
  {
   "cell_type": "code",
   "execution_count": null,
   "metadata": {
    "colab": {
     "base_uri": "https://localhost:8080/",
     "height": 340
    },
    "id": "f9B-1SvQRJwx",
    "outputId": "b8bb14bd-ae49-4765-f058-6b1fb2bb03b6"
   },
   "outputs": [
    {
     "data": {
      "text/html": [
       "<iframe width=\"560\" height=\"315\" src=https://www.youtube.com/embed/BPwZaQfoIbU?rel=0&amp;controls=0&amp;showinfo=0frameborder=\"0\" allowfullscreen></iframe>"
      ],
      "text/plain": [
       "<IPython.core.display.HTML object>"
      ]
     },
     "execution_count": 3,
     "metadata": {
      "tags": []
     },
     "output_type": "execute_result"
    }
   ],
   "source": [
    "from IPython.display import HTML\n",
    "url = \"BPwZaQfoIbU\" #@param {type:\"string\"}\n",
    "embed_url = \"https://www.youtube.com/embed/%s?rel=0&amp;controls=0&amp;showinfo=0\" % (url)\n",
    "HTML('<iframe width=\"560\" height=\"315\" src=' + embed_url + 'frameborder=\"0\" allowfullscreen></iframe>')"
   ]
  },
  {
   "cell_type": "code",
   "execution_count": null,
   "metadata": {
    "id": "S3zXdOnHUFFN"
   },
   "outputs": [],
   "source": [
    "display(Audio(audio[:, 0*rate:40*rate], rate=rate))"
   ]
  },
  {
   "cell_type": "markdown",
   "metadata": {
    "id": "qSGAiEMMeier"
   },
   "source": [
    "## Split songs to separate channels using AI\n",
    "\n",
    "\n",
    "<figure class=\"image\">\n",
    "  <img src=\"https://miro.medium.com/max/2824/1*f7YOaE4TWubwaFF7Z1fzNw.png\" alt=\"Dataset illustration\">\n",
    "  <figcaption>Source: UNet — Line by Line Explanation (Link in course resources)</figcaption>\n",
    "</figure>"
   ]
  },
  {
   "cell_type": "markdown",
   "metadata": {
    "id": "SVWRSfG5exr2"
   },
   "source": [
    "## Let's use Audacity to play different parts of the song"
   ]
  }
 ],
 "metadata": {
  "accelerator": "GPU",
  "colab": {
   "collapsed_sections": [],
   "include_colab_link": true,
   "name": "Empty Using AI to split songs to multiple sources",
   "provenance": []
  },
  "kernelspec": {
   "display_name": "Python 3 (ipykernel)",
   "language": "python",
   "name": "python3"
  },
  "language_info": {
   "codemirror_mode": {
    "name": "ipython",
    "version": 3
   },
   "file_extension": ".py",
   "mimetype": "text/x-python",
   "name": "python",
   "nbconvert_exporter": "python",
   "pygments_lexer": "ipython3",
   "version": "3.7.11"
  }
 },
 "nbformat": 4,
 "nbformat_minor": 1
}
