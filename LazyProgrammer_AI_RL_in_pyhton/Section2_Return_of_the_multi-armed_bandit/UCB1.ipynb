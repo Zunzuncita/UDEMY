{
 "cells": [
  {
   "cell_type": "code",
   "execution_count": 1,
   "id": "2a8d9fad",
   "metadata": {},
   "outputs": [],
   "source": [
    "# import section\n",
    "import numpy as np\n",
    "import pandas as pd\n",
    "import matplotlib.pyplot as plt\n",
    "import seaborn as sn"
   ]
  },
  {
   "cell_type": "code",
   "execution_count": 3,
   "id": "0e6074ac",
   "metadata": {},
   "outputs": [],
   "source": [
    "# global constant\n",
    "NUM_TRIAL = 100000\n",
    "BANDIT_PROBABILITIES = [0.2,0.5,0.75]"
   ]
  },
  {
   "cell_type": "code",
   "execution_count": 10,
   "id": "13f0388b",
   "metadata": {},
   "outputs": [],
   "source": [
    "# Bandit class\n",
    "class Bandit():\n",
    "    \n",
    "    def __init__(self, p):\n",
    "        # initial state of the bandit before next pull\n",
    "        # p : the win rate\n",
    "        self.p = p\n",
    "        self.p_estimate = 0 \n",
    "        self.N = 0\n",
    "        \n",
    "    def __str__(self):\n",
    "        return f\"the mean of the bandit {self.p} is {self.p_estimate} and time play is {self.N}\"\n",
    "        \n",
    "    def pull(self):\n",
    "        # draw a 1 with the probability p\n",
    "        return np.random.random() < self.p\n",
    "    \n",
    "    def update(self, x):\n",
    "        self.N = self.N + 1\n",
    "        #self.p_estimate = (1-1/self.N)*self.p_estimate + x/self.N\n",
    "        self.p_estimate = ((self.N - 1)*self.p_estimate + x) / self.N\n",
    "        \n",
    "def experiment():\n",
    "    \n",
    "    # initialize the 3 Bandits\n",
    "    bandits = [Bandit(p) for p in BANDIT_PROBABILITIES]\n",
    "    \n",
    "    rewards = np.zeros(NUM_TRIAL)\n",
    "    i=0\n",
    "\n",
    "    # play each bandit one time\n",
    "    for b in bandits:\n",
    "        rewards[i] = b.pull()\n",
    "        b.update(rewards[i])\n",
    "        i += 1\n",
    "    \n",
    "    \n",
    "    # the loop\n",
    "    for i in range(3,NUM_TRIAL):\n",
    "        \n",
    "        # use UCB to select the next Bandit\n",
    "        optimal_j = np.argmax([(b.p_estimate + np.sqrt(2*np.log(i)/b.N)) for b in bandits])\n",
    "        \n",
    "        # trigger the current bandit\n",
    "        cur_bandit = bandits[optimal_j]\n",
    "        rewards[i] = cur_bandit.pull()\n",
    "        cur_bandit.update(rewards[i])\n",
    "        \n",
    "    for b in bandits:    \n",
    "        print(b)\n",
    "        \n",
    "    # plot the results\n",
    "    cumulative_rewards = np.cumsum(rewards)\n",
    "    win_rates = cumulative_rewards / (np.arange(NUM_TRIAL) + 1)\n",
    "    plt.plot(win_rates)\n",
    "    plt.plot(np.ones(NUM_TRIAL)*np.max(BANDIT_PROBABILITIES))\n",
    "    plt.show()\n",
    "        \n",
    "            "
   ]
  },
  {
   "cell_type": "code",
   "execution_count": 11,
   "id": "0223d4b7",
   "metadata": {},
   "outputs": [
    {
     "name": "stdout",
     "output_type": "stream",
     "text": [
      "the mean of the bandit 0.2 is 0.20270270270270271 and time play is 74\n",
      "the mean of the bandit 0.5 is 0.5226130653266334 and time play is 398\n",
      "the mean of the bandit 0.75 is 0.74941724941726 and time play is 99528\n"
     ]
    },
    {
     "data": {
      "image/png": "[encoded data removed]",
      "text/plain": [
       "<Figure size 432x288 with 1 Axes>"
      ]
     },
     "metadata": {
      "needs_background": "light"
     },
     "output_type": "display_data"
    }
   ],
   "source": [
    "experiment()"
   ]
  }
 ],
 "metadata": {
  "kernelspec": {
   "display_name": "Python 3 (ipykernel)",
   "language": "python",
   "name": "python3"
  },
  "language_info": {
   "codemirror_mode": {
    "name": "ipython",
    "version": 3
   },
   "file_extension": ".py",
   "mimetype": "text/x-python",
   "name": "python",
   "nbconvert_exporter": "python",
   "pygments_lexer": "ipython3",
   "version": "3.7.11"
  }
 },
 "nbformat": 4,
 "nbformat_minor": 5
}
