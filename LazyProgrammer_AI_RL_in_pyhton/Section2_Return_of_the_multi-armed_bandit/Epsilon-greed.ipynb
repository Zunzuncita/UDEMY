{
 "cells": [
  {
   "cell_type": "markdown",
   "id": "9aa4c4d0",
   "metadata": {},
   "source": [
    "# Implement of the Epsilon-greedy method"
   ]
  },
  {
   "cell_type": "code",
   "execution_count": 1,
   "id": "3a16741c",
   "metadata": {},
   "outputs": [],
   "source": [
    "# import section\n",
    "import numpy as np\n",
    "import pandas as pd\n",
    "import matplotlib.pyplot as plt\n",
    "import seaborn as sn"
   ]
  },
  {
   "cell_type": "code",
   "execution_count": 2,
   "id": "dbd694f3",
   "metadata": {},
   "outputs": [],
   "source": [
    "# global constant\n",
    "EPS = 0.1\n",
    "NUM_TRIAL = 10000\n",
    "BANDIT_PROBABILITIES = [0.2,0.5,0.75]"
   ]
  },
  {
   "cell_type": "code",
   "execution_count": 3,
   "id": "8f63a6c6",
   "metadata": {},
   "outputs": [],
   "source": [
    "# Bandit class\n",
    "class Bandit():\n",
    "    \n",
    "    def __init__(self, p):\n",
    "        # initial state of the bandit before next pull\n",
    "        # p : the win rate\n",
    "        self.p = p\n",
    "        self.p_estimate = 0 \n",
    "        self.N = 0\n",
    "        \n",
    "    def __str__(self):\n",
    "        return f\"the mean of the bandit {self.p} is {self.p_estimate}\"\n",
    "        \n",
    "    def pull(self):\n",
    "        # draw a 1 with the probability p\n",
    "        return np.random.random() < self.p\n",
    "    \n",
    "    def update(self, x):\n",
    "        self.N = self.N + 1\n",
    "        #self.p_estimate = (1-1/self.N)*self.p_estimate + x/self.N\n",
    "        self.p_estimate = ((self.N - 1)*self.p_estimate + x) / self.N\n",
    "        \n",
    "def experiment():\n",
    "    \n",
    "    # initialize the 3 Bandits\n",
    "    bandits = [Bandit(p) for p in BANDIT_PROBABILITIES]\n",
    "    \n",
    "    rewards = np.zeros(NUM_TRIAL)\n",
    "    num_times_explored = 0\n",
    "    num_times_exploited = 0\n",
    "    num_optimal = 0\n",
    "    optimal_j = np.argmax([b.p for b in bandits])\n",
    "    print(\"optimal j:\", optimal_j)\n",
    "    \n",
    "    # the loop\n",
    "    for i in range(NUM_TRIAL):\n",
    "        \n",
    "        # use epsilon-greedy to select the next bandit\n",
    "        current_draw = np.random.random()\n",
    "        if current_draw < EPS:\n",
    "            num_times_explored += 1\n",
    "            j = np.random.randint(0,3)\n",
    "        else:\n",
    "            num_times_exploited += 1\n",
    "            j = optimal_j\n",
    "        \n",
    "        if j == optimal_j:\n",
    "            num_optimal += 1\n",
    "        \n",
    "        # trigger the current bandit\n",
    "        cur_bandit = bandits[j]\n",
    "        rewards[i] = cur_bandit.pull()\n",
    "        cur_bandit.update(rewards[i])\n",
    "        \n",
    "    for b in bandits:    \n",
    "        print(b)\n",
    "        \n",
    "    print(\"total reward wins : \" + str(rewards.sum()))\n",
    "    print(\"rate of the benefice : \" + str(rewards.sum()/NUM_TRIAL))\n",
    "    print(\"number of exploration : \" + str(num_times_explored))\n",
    "    print(\"number of exploitation : \" + str(num_times_exploited))\n",
    "    print(\"num times selected optimal bandit:\", str(num_optimal))\n",
    "\n",
    "    # plot the results\n",
    "    cumulative_rewards = np.cumsum(rewards)\n",
    "    win_rates = cumulative_rewards / (np.arange(NUM_TRIAL) + 1)\n",
    "    plt.plot(win_rates)\n",
    "    plt.plot(np.ones(NUM_TRIAL)*np.max(BANDIT_PROBABILITIES))\n",
    "    plt.show()\n",
    "        \n",
    "            "
   ]
  },
  {
   "cell_type": "code",
   "execution_count": 4,
   "id": "738ec759",
   "metadata": {},
   "outputs": [
    {
     "name": "stdout",
     "output_type": "stream",
     "text": [
      "optimal j: 2\n",
      "the mean of the bandit 0.2 is 0.19393939393939394\n",
      "the mean of the bandit 0.5 is 0.48224852071005936\n",
      "the mean of the bandit 0.75 is 0.75439348478354\n",
      "total reward wins : 7267.0\n",
      "rate of the benefice : 0.7267\n",
      "number of exploration : 1014\n",
      "number of exploitation : 8986\n",
      "num times selected optimal bandit: 9332\n"
     ]
    },
    {
     "data": {
      "image/png": "[encoded data removed]",
      "text/plain": [
       "<Figure size 432x288 with 1 Axes>"
      ]
     },
     "metadata": {
      "needs_background": "light"
     },
     "output_type": "display_data"
    }
   ],
   "source": [
    "experiment()"
   ]
  }
 ],
 "metadata": {
  "kernelspec": {
   "display_name": "Python 3 (ipykernel)",
   "language": "python",
   "name": "python3"
  },
  "language_info": {
   "codemirror_mode": {
    "name": "ipython",
    "version": 3
   },
   "file_extension": ".py",
   "mimetype": "text/x-python",
   "name": "python",
   "nbconvert_exporter": "python",
   "pygments_lexer": "ipython3",
   "version": "3.7.11"
  }
 },
 "nbformat": 4,
 "nbformat_minor": 5
}
